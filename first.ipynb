{
  "nbformat": 4,
  "nbformat_minor": 0,
  "metadata": {
    "colab": {
      "provenance": [],
      "gpuType": "T4",
      "mount_file_id": "1tOqpicL83bDpdQEI7Rsqbaj2WwDUyN8C",
      "authorship_tag": "ABX9TyNQWsuohORGa8qL2tQeJGQF",
      "include_colab_link": true
    },
    "kernelspec": {
      "name": "python3",
      "display_name": "Python 3"
    },
    "language_info": {
      "name": "python"
    },
    "accelerator": "GPU"
  },
  "cells": [
    {
      "cell_type": "markdown",
      "metadata": {
        "id": "view-in-github",
        "colab_type": "text"
      },
      "source": [
        "<a href=\"https://colab.research.google.com/github/Yuhwan0650/Yuhwan0650/blob/main/first.ipynb\" target=\"_parent\"><img src=\"https://colab.research.google.com/assets/colab-badge.svg\" alt=\"Open In Colab\"/></a>"
      ]
    },
    {
      "cell_type": "code",
      "execution_count": 3,
      "metadata": {
        "id": "Epr4rWD-RV2K",
        "colab": {
          "base_uri": "https://localhost:8080/"
        },
        "outputId": "25e498c5-7db7-4d97-ae73-c8cba4817628"
      },
      "outputs": [
        {
          "output_type": "stream",
          "name": "stdout",
          "text": [
            "Hello, world\n",
            "정수: 3, 03, 003, 0003, 00003\n",
            "실수: 256, 256.1, 256.12\n",
            "문자열: [Hello, world]\n"
          ]
        }
      ],
      "source": [
        "print (\"Hello, world\")\n",
        "\n",
        "x=3\n",
        "print(\"정수: %01d, %02d, %03d, %04d, %05d\"\n",
        "  %(x, x, x, x, x))\n",
        "\n",
        "x=256.123\n",
        "print(\"실수: %.0f, %.1f, %.2f\"\n",
        "  %(x, x, x))\n",
        "\n",
        "x=\"Hello, world\"\n",
        "print(\"문자열: [%s]\" %(x))"
      ]
    }
  ]
}